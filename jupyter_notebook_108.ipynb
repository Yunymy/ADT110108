{
 "cells": [
  {
   "cell_type": "code",
   "execution_count": 6,
   "id": "4630aaf3",
   "metadata": {},
   "outputs": [
    {
     "name": "stdout",
     "output_type": "stream",
     "text": [
      "輸入正整數12\n",
      "1到 12 的和是 78 \n"
     ]
    }
   ],
   "source": [
    "sum = 0\n",
    "n = int (input(\"輸入正整數\"))\n",
    "for i in range(1, n+1):\n",
    "  sum += i\n",
    "print(\"1到 %d 的和是 %d \" %(n, sum))\n",
    "\n",
    "\n"
   ]
  },
  {
   "cell_type": "code",
   "execution_count": null,
   "id": "40821d3b",
   "metadata": {},
   "outputs": [],
   "source": []
  }
 ],
 "metadata": {
  "kernelspec": {
   "display_name": "Python 3 (ipykernel)",
   "language": "python",
   "name": "python3"
  },
  "language_info": {
   "codemirror_mode": {
    "name": "ipython",
    "version": 3
   },
   "file_extension": ".py",
   "mimetype": "text/x-python",
   "name": "python",
   "nbconvert_exporter": "python",
   "pygments_lexer": "ipython3",
   "version": "3.11.5"
  }
 },
 "nbformat": 4,
 "nbformat_minor": 5
}
